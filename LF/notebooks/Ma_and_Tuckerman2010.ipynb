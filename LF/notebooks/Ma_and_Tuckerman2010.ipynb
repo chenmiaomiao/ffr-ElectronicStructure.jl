{
 "cells": [
  {
   "cell_type": "markdown",
   "metadata": {},
   "source": [
    "# Constant pressure *ab initio* molecular dynamics with discrete variable representation basis sets"
   ]
  },
  {
   "cell_type": "markdown",
   "metadata": {},
   "source": [
    "Zhonghua Ma and Mark Tuckerman, *J. Chem. Phys* **133** 184110 (2010)"
   ]
  },
  {
   "cell_type": "markdown",
   "metadata": {
    "collapsed": true
   },
   "source": [
    "Three dimensional FBR basis, defined in terms of general cell matrix $\\mathbf{h}$."
   ]
  },
  {
   "cell_type": "markdown",
   "metadata": {},
   "source": [
    "Consider an invertible transformation between:\n",
    "- a set of curvilinear coordinates $s_{\\alpha}$, $\\alpha = 1,2,3$, which has three axes along three box vectors of a general cell matrix, and\n",
    "- a set of Cartesian coordinates $r_{\\alpha}$, $\\alpha = 1,2,3$"
   ]
  },
  {
   "cell_type": "markdown",
   "metadata": {},
   "source": [
    "$$\n",
    "\\begin{equation}\n",
    "r_{\\alpha} = \\sum_{j=1}^{3} h_{\\alpha\\beta}s_{\\beta}\n",
    "\\end{equation}\n",
    "$$"
   ]
  },
  {
   "cell_type": "markdown",
   "metadata": {},
   "source": [
    "The columns of $\\mathbf{h}$ are three box vectors $\\mathbf{a}$, $\\mathbf{b}$ and $\\mathbf{c}$."
   ]
  },
  {
   "cell_type": "markdown",
   "metadata": {},
   "source": [
    "The above coordinate transformation maps a simulation cell of shape $\\mathbf{h}$ into a unit cubic box."
   ]
  },
  {
   "cell_type": "code",
   "execution_count": 1,
   "metadata": {},
   "outputs": [
    {
     "data": {
      "text/plain": [
       "gen_lattice_fcc (generic function with 1 method)"
      ]
     },
     "execution_count": 1,
     "metadata": {},
     "output_type": "execute_result"
    }
   ],
   "source": [
    "function gen_lattice_hexagonal(a; coa=8.0/3.0)\n",
    "  LL = zeros(3,3)\n",
    "  LL[1,:] = [1.0, 0.0, 0.0]\n",
    "  LL[2,:] = [-cos(pi/3.0), sin(pi/3.0), 0.0]\n",
    "  LL[3,:] = [0.0, 0.0, coa]\n",
    "  return a*LL\n",
    "end\n",
    "\n",
    "function gen_lattice_fcc(a)\n",
    "  LL = zeros(3,3)\n",
    "  LL[1,:] = [ 0.0, 1.0, 1.0]\n",
    "  LL[2,:] = [ 1.0, 0.0, 1.0]\n",
    "  LL[3,:] = [ 1.0, 1.0, 0.0]\n",
    "  return 0.5*a*LL\n",
    "end"
   ]
  },
  {
   "cell_type": "code",
   "execution_count": 3,
   "metadata": {},
   "outputs": [
    {
     "data": {
      "text/plain": [
       "3×3 Array{Float64,2}:\n",
       " 0.0  0.5  0.5\n",
       " 0.5  0.0  0.5\n",
       " 0.5  0.5  0.0"
      ]
     },
     "execution_count": 3,
     "metadata": {},
     "output_type": "execute_result"
    }
   ],
   "source": [
    "LL = gen_lattice_fcc(1.0)\n",
    "a = LL[1,:]\n",
    "b = LL[2,:]\n",
    "c = LL[3,:]\n",
    "LL"
   ]
  },
  {
   "cell_type": "markdown",
   "metadata": {},
   "source": [
    "Define general cell matrix $\\mathbf{h}$"
   ]
  },
  {
   "cell_type": "code",
   "execution_count": 11,
   "metadata": {},
   "outputs": [
    {
     "data": {
      "text/plain": [
       "3×3 Array{Float64,2}:\n",
       " 0.0  0.5  0.5\n",
       " 0.5  0.0  0.5\n",
       " 0.5  0.5  0.0"
      ]
     },
     "execution_count": 11,
     "metadata": {},
     "output_type": "execute_result"
    }
   ],
   "source": [
    "hh = zeros(3,3)\n",
    "hh[:,1] = a\n",
    "hh[:,2] = b\n",
    "hh[:,3] = c\n",
    "hh"
   ]
  },
  {
   "cell_type": "code",
   "execution_count": 16,
   "metadata": {},
   "outputs": [
    {
     "data": {
      "text/plain": [
       "init_r_grids (generic function with 1 method)"
      ]
     },
     "execution_count": 16,
     "metadata": {},
     "output_type": "execute_result"
    }
   ],
   "source": [
    "function init_r_grids( Ns, LatVecs )\n",
    "  #\n",
    "  Npoints = prod(Ns)\n",
    "  #\n",
    "  r = Array{Float64}(3,Npoints)\n",
    "  ip = 0\n",
    "  for k in 0:Ns[3]-1\n",
    "    for j in 0:Ns[2]-1\n",
    "      for i in 0:Ns[1]-1\n",
    "        ip = ip + 1\n",
    "        r[1,ip] = LatVecs[1,1]*i/Ns[1] + LatVecs[2,1]*j/Ns[2] + LatVecs[3,1]*k/Ns[3]\n",
    "        r[2,ip] = LatVecs[1,2]*i/Ns[1] + LatVecs[2,2]*j/Ns[2] + LatVecs[3,2]*k/Ns[3]\n",
    "        r[3,ip] = LatVecs[1,3]*i/Ns[1] + LatVecs[2,3]*j/Ns[2] + LatVecs[3,3]*k/Ns[3]\n",
    "      end\n",
    "    end\n",
    "  end\n",
    "  return r\n",
    "end"
   ]
  },
  {
   "cell_type": "code",
   "execution_count": 14,
   "metadata": {},
   "outputs": [
    {
     "data": {
      "text/plain": [
       "write_xsf (generic function with 1 method)"
      ]
     },
     "execution_count": 14,
     "metadata": {},
     "output_type": "execute_result"
    }
   ],
   "source": [
    "function write_xsf( filnam, LL, atpos; atsymb=nothing, molecule=false )\n",
    "  #\n",
    "  f = open(filnam, \"w\")\n",
    "  Natoms = size(atpos)[2]\n",
    "  #\n",
    "  if molecule\n",
    "    @printf(f, \"MOLECULE\\n\")\n",
    "  else\n",
    "    @printf(f, \"CRYSTAL\\n\")\n",
    "  end\n",
    "  @printf(f, \"PRIMVEC\\n\")\n",
    "  @printf(f, \"%18.10f %18.10f %18.10f\\n\", LL[1,1], LL[1,2], LL[1,3])\n",
    "  @printf(f, \"%18.10f %18.10f %18.10f\\n\", LL[2,1], LL[2,2], LL[2,3])\n",
    "  @printf(f, \"%18.10f %18.10f %18.10f\\n\", LL[3,1], LL[3,2], LL[3,3])\n",
    "  @printf(f, \"PRIMCOORD\\n\")\n",
    "  @printf(f, \"%8d %8d\\n\", Natoms, 1)\n",
    "  #\n",
    "  if atsymb == nothing\n",
    "    for ia = 1:Natoms\n",
    "      @printf(f, \"X  %18.10f %18.10f %18.10f\\n\", atpos[1,ia], atpos[2,ia], atpos[3,ia])\n",
    "    end\n",
    "  else\n",
    "    for ia = 1:Natoms\n",
    "      @printf(f, \"%s  %18.10f %18.10f %18.10f\\n\", atsymb[ia], atpos[1,ia], atpos[2,ia], atpos[3,ia])      \n",
    "    end\n",
    "  end\n",
    "\n",
    "  close(f)\n",
    "end"
   ]
  },
  {
   "cell_type": "code",
   "execution_count": 25,
   "metadata": {},
   "outputs": [],
   "source": [
    "Ns = [11,11,11]\n",
    "r = init_r_grids(Ns,10*LL)\n",
    "write_xsf(\"r_fcc.xsf\", 10*LL, r)"
   ]
  },
  {
   "cell_type": "markdown",
   "metadata": {},
   "source": [
    "Generate grid of $s$:"
   ]
  },
  {
   "cell_type": "code",
   "execution_count": 56,
   "metadata": {},
   "outputs": [
    {
     "data": {
      "text/plain": [
       "3×1331 Array{Float64,2}:\n",
       " -0.454545  -0.454545  -0.454545  -0.454545  …  0.454545  0.454545  0.454545\n",
       " -0.454545  -0.454545  -0.454545  -0.454545     0.454545  0.454545  0.454545\n",
       " -0.454545  -0.363636  -0.272727  -0.181818     0.272727  0.363636  0.454545"
      ]
     },
     "execution_count": 56,
     "metadata": {},
     "output_type": "execute_result"
    }
   ],
   "source": [
    "function init_s_grid(Ns)\n",
    "    if any( (Ns .% 2) .== 0 )\n",
    "        error(\"Ns must be odd numbers\")\n",
    "    end\n",
    "    NN = round.(Int, (Ns-1)/2)\n",
    "    Npoints = prod(Ns)\n",
    "    s = zeros(3,Npoints)\n",
    "    ip = 0\n",
    "    for l = -NN[1]:NN[1]\n",
    "        for m = -NN[2]:NN[2]\n",
    "            for n = -NN[3]:NN[3]\n",
    "                ip = ip + 1\n",
    "                s[1,ip] = l/(2*NN[1] + 1)\n",
    "                s[2,ip] = m/(2*NN[2] + 1)\n",
    "                s[3,ip] = n/(2*NN[3] + 1)\n",
    "            end\n",
    "        end\n",
    "    end\n",
    "    return s\n",
    "end\n",
    "\n",
    "s = init_s_grid(Ns)"
   ]
  },
  {
   "cell_type": "code",
   "execution_count": 46,
   "metadata": {},
   "outputs": [
    {
     "name": "stdout",
     "output_type": "stream",
     "text": [
      "[0.0 5.0 5.0; 5.0 0.0 5.0; 5.0 5.0 0.0]\n"
     ]
    }
   ],
   "source": [
    "function s_to_r(s::Array{Float64,2}, hh)\n",
    "    Npoints = size(s)[2]\n",
    "    r = zeros(3,Npoints)\n",
    "    for ip = 1:Npoints\n",
    "        for α = 1:3\n",
    "            r[α,ip] = 0.0\n",
    "            for β = 1:3\n",
    "                r[α,ip] = r[α,ip] + hh[α,β]*s[β,ip]\n",
    "            end\n",
    "        end\n",
    "    end\n",
    "    return r\n",
    "end\n",
    "\n",
    "println(10*hh)\n",
    "r = s_to_r(s, 10*hh)\n",
    "write_xsf(\"r_fcc_v2.xsf\", 10*LL, r)"
   ]
  },
  {
   "cell_type": "markdown",
   "metadata": {},
   "source": [
    "Test for hexagonal grid:"
   ]
  },
  {
   "cell_type": "code",
   "execution_count": 58,
   "metadata": {},
   "outputs": [],
   "source": [
    "LL = gen_lattice_hexagonal(10)\n",
    "hh = LL'\n",
    "Ns = [11,11,15]\n",
    "s = init_s_grid(Ns)\n",
    "r = s_to_r(s,hh)\n",
    "write_xsf(\"r_hcp_v1.xsf\", hh', r) # don't forget to transpose hh"
   ]
  },
  {
   "cell_type": "markdown",
   "metadata": {},
   "source": [
    "Periodic boundary conditions are used, plane-wave like functions $\\mathbf{\\phi}_{\\hat{\\mathbf{k}}}(\\mathbf{s})$ can be defined as functions of $s_{\\alpha} \\in [ -\\dfrac{1}{2},\\dfrac{1}{2} ]$ as"
   ]
  },
  {
   "cell_type": "markdown",
   "metadata": {},
   "source": [
    "$$\n",
    "\\begin{equation}\n",
    "\\phi_{\\hat{\\mathbf{k}}}(\\mathbf{s}) = \n",
    "\\left| \\frac{\\partial\\mathbf{s}}{\\partial\\mathbf{r}} \\right|^{1/2}\n",
    "\\exp\\left[\n",
    "2\\pi\\imath\\hat{\\mathbf{k}}\\cdot\\mathbf{s}\n",
    "\\right]\n",
    "= \n",
    "\\dfrac{1}{\\sqrt{\\mathrm{det}(\\mathbf{h})}}\n",
    "\\exp\\left[\n",
    "2\\pi\\imath\\hat{\\mathbf{k}}\\cdot\\mathbf{s}\n",
    "\\right]\n",
    "\\end{equation}\n",
    "$$"
   ]
  },
  {
   "cell_type": "markdown",
   "metadata": {},
   "source": [
    "where $\\hat{\\mathbf{k}} = (\\hat{k}_1, \\hat{k}_2, \\hat{k}_3)$ is a vector of integers."
   ]
  },
  {
   "cell_type": "markdown",
   "metadata": {},
   "source": [
    "The basis $\\{ \\phi_{\\hat{\\mathbf{k}}}(\\mathbf{s}) \\}$ are orthonormal:"
   ]
  },
  {
   "cell_type": "markdown",
   "metadata": {},
   "source": [
    "$$\n",
    "\\begin{equation}\n",
    "\\int\n",
    "\\,\n",
    "\\mathrm{d}\\mathbf{s}\n",
    "\\,\n",
    "\\left|\\frac{\\partial\\mathbf{r}}{\\partial\\mathbf{s}}\\right|\n",
    "\\end{equation}\n",
    "\\phi^{*}_{\\hat{\\mathbf{k}}}(\\mathbf{s})\n",
    "\\phi_{\\hat{\\mathbf{k}}'}(\\mathbf{s})\n",
    "=\n",
    "\\int\n",
    "\\,\n",
    "\\mathrm{d}\\mathbf{s}\n",
    "\\,\n",
    "\\exp[ -2\\pi\\imath\\hat{\\mathbf{k}}\\cdot\\mathbf{s} ]\n",
    "\\,\n",
    "\\exp[  2\\pi\\imath\\hat{\\mathbf{k}}'\\cdot\\mathbf{s} ]\n",
    "=\n",
    "\\delta_{\\hat{\\mathbf{k}},\\hat{\\mathbf{k}}'}\n",
    "$$"
   ]
  },
  {
   "cell_type": "code",
   "execution_count": null,
   "metadata": {
    "collapsed": true
   },
   "outputs": [],
   "source": []
  },
  {
   "cell_type": "code",
   "execution_count": null,
   "metadata": {
    "collapsed": true
   },
   "outputs": [],
   "source": []
  },
  {
   "cell_type": "code",
   "execution_count": null,
   "metadata": {
    "collapsed": true
   },
   "outputs": [],
   "source": []
  },
  {
   "cell_type": "code",
   "execution_count": null,
   "metadata": {
    "collapsed": true
   },
   "outputs": [],
   "source": []
  }
 ],
 "metadata": {
  "kernelspec": {
   "display_name": "Julia 0.6.0",
   "language": "julia",
   "name": "julia-0.6"
  },
  "language_info": {
   "file_extension": ".jl",
   "mimetype": "application/julia",
   "name": "julia",
   "version": "0.6.0"
  }
 },
 "nbformat": 4,
 "nbformat_minor": 2
}
